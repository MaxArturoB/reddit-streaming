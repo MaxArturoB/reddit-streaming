{
 "cells": [
  {
   "cell_type": "code",
   "execution_count": 20,
   "id": "138b4340-fa3d-420c-bb71-ecdc80ecaa02",
   "metadata": {},
   "outputs": [],
   "source": [
    "from pyspark.sql import SparkSession\n",
    "from pyspark.sql.functions import (\n",
    "    count\n",
    ")\n",
    "from pyspark.sql.functions import col, window, regexp_extract"
   ]
  },
  {
   "cell_type": "code",
   "execution_count": 2,
   "id": "fac392fd-123d-4567-bbb4-f7b23317407c",
   "metadata": {},
   "outputs": [],
   "source": [
    "input_dir=\"data/raw/*.parquet\"\n",
    "output_dir=\"data/reference\""
   ]
  },
  {
   "cell_type": "code",
   "execution_count": 3,
   "id": "efc834e5-6bd6-498b-8d89-f081735ee52f",
   "metadata": {},
   "outputs": [
    {
     "name": "stderr",
     "output_type": "stream",
     "text": [
      "24/06/11 19:12:57 WARN Utils: Your hostname, Exporo-MBP-219.local resolves to a loopback address: 127.0.0.1; using 10.10.5.83 instead (on interface en0)\n",
      "24/06/11 19:12:57 WARN Utils: Set SPARK_LOCAL_IP if you need to bind to another address\n",
      "Setting default log level to \"WARN\".\n",
      "To adjust logging level use sc.setLogLevel(newLevel). For SparkR, use setLogLevel(newLevel).\n",
      "24/06/11 19:12:58 WARN NativeCodeLoader: Unable to load native-hadoop library for your platform... using builtin-java classes where applicable\n",
      "24/06/11 19:12:58 WARN Utils: Service 'SparkUI' could not bind on port 4040. Attempting port 4041.\n"
     ]
    }
   ],
   "source": [
    "spark = (\n",
    "    SparkSession.builder.appName(\"Reddit sentiment Processing\")\n",
    "    .master(\"local[*]\")\n",
    "    .getOrCreate()\n",
    ")"
   ]
  },
  {
   "cell_type": "code",
   "execution_count": 4,
   "id": "ab844963-961d-40ce-bd8c-9ce8e8d223dc",
   "metadata": {},
   "outputs": [
    {
     "name": "stderr",
     "output_type": "stream",
     "text": [
      "                                                                                \r"
     ]
    }
   ],
   "source": [
    "df = spark.read.parquet(input_dir)"
   ]
  },
  {
   "cell_type": "code",
   "execution_count": 13,
   "id": "19d4c118-c8e5-4e59-94c3-bb9a363a1f82",
   "metadata": {},
   "outputs": [],
   "source": [
    "user_ref = df.withColumn(\n",
    "        \"reference\", regexp_extract(col(\"text\"), r\"/u/(\\w+)\", 0)\n",
    "    ).filter(col(\"reference\") != \"\")\n",
    "post_ref = df.withColumn(\n",
    "        \"reference\", regexp_extract(col(\"text\"), r\"/r/(\\w+)\", 0)\n",
    "    ).filter(col(\"reference\") != \"\")\n",
    "url_ref = df.withColumn(\n",
    "        \"reference\", regexp_extract(col(\"text\"), r\"(http\\S+)\", 0)\n",
    "    ).filter(col(\"reference\") != \"\")"
   ]
  },
  {
   "cell_type": "code",
   "execution_count": 14,
   "id": "5d91e791-af9a-4115-b13e-4a72ff6c82b9",
   "metadata": {},
   "outputs": [],
   "source": [
    "combined_df = (\n",
    "        user_ref.select(\"timestamp\", \"reference\")\n",
    "        .union(post_ref.select(\"timestamp\", \"reference\"))\n",
    "        .union(url_ref.select(\"timestamp\", \"reference\"))\n",
    "    )"
   ]
  },
  {
   "cell_type": "code",
   "execution_count": 23,
   "id": "af62dc51-f22f-4ef4-a346-3d32fae041e7",
   "metadata": {},
   "outputs": [],
   "source": [
    "windowed_counts = combined_df.groupBy(\n",
    "        window(col(\"timestamp\"), \"60 seconds\", \"5 seconds\"), col(\"reference\")\n",
    "    ).count()"
   ]
  },
  {
   "cell_type": "code",
   "execution_count": 24,
   "id": "92b7f40d-0b18-450e-8f92-2c60dda8cf1e",
   "metadata": {},
   "outputs": [
    {
     "name": "stderr",
     "output_type": "stream",
     "text": [
      "[Stage 17:=============================================>        (161 + 8) / 192]\r"
     ]
    },
    {
     "name": "stdout",
     "output_type": "stream",
     "text": [
      "+--------------------+--------------------+-----+\n",
      "|              window|           reference|count|\n",
      "+--------------------+--------------------+-----+\n",
      "|{2024-06-05 08:37...|         /r/JoeRogan|    4|\n",
      "|{2024-06-05 08:37...|         /r/JoeRogan|    4|\n",
      "|{2024-06-05 08:37...|         /r/JoeRogan|    4|\n",
      "|{2024-06-05 08:36...|         /r/JoeRogan|    4|\n",
      "|{2024-06-05 08:37...|         /r/JoeRogan|    4|\n",
      "|{2024-06-05 08:36...|         /r/JoeRogan|    4|\n",
      "|{2024-06-05 08:37...|         /r/JoeRogan|    4|\n",
      "|{2024-06-05 08:37...|         /r/JoeRogan|    4|\n",
      "|{2024-06-05 08:37...|         /r/JoeRogan|    4|\n",
      "|{2024-06-05 08:37...|         /r/JoeRogan|    4|\n",
      "|{2024-06-05 08:37...|         /r/JoeRogan|    4|\n",
      "|{2024-06-05 08:37...|         /r/JoeRogan|    4|\n",
      "|{2024-06-05 00:05...|https://www.amazo...|    3|\n",
      "|{2024-06-05 00:05...|https://www.amazo...|    3|\n",
      "|{2024-06-05 00:06...|https://www.amazo...|    3|\n",
      "|{2024-06-05 00:05...|https://www.amazo...|    3|\n",
      "|{2024-06-05 00:05...|https://www.amazo...|    3|\n",
      "|{2024-06-05 00:05...|https://www.amazo...|    3|\n",
      "|{2024-06-05 00:05...|https://www.amazo...|    3|\n",
      "|{2024-06-05 00:05...|https://www.amazo...|    3|\n",
      "+--------------------+--------------------+-----+\n",
      "only showing top 20 rows\n",
      "\n"
     ]
    },
    {
     "name": "stderr",
     "output_type": "stream",
     "text": [
      "                                                                                \r"
     ]
    }
   ],
   "source": [
    "windowed_counts.show(20)"
   ]
  },
  {
   "cell_type": "code",
   "execution_count": null,
   "id": "3a75f201-4734-481b-9dd3-c7b0b5e3c29e",
   "metadata": {},
   "outputs": [],
   "source": [
    "windowed_counts.write.mode(\"append\").parquet(output_dir)"
   ]
  },
  {
   "cell_type": "code",
   "execution_count": null,
   "id": "d252e6c0-8dc4-40f5-a497-d3dab539eb14",
   "metadata": {},
   "outputs": [],
   "source": []
  },
  {
   "cell_type": "markdown",
   "id": "60808f9e-83db-46e3-8460-45779b5b3d85",
   "metadata": {},
   "source": [
    "test"
   ]
  },
  {
   "cell_type": "code",
   "execution_count": 25,
   "id": "e36f5996-17ad-4e91-b991-103512d5b964",
   "metadata": {},
   "outputs": [],
   "source": [
    "df_result = spark.read.parquet(\"data/reference/*.parquet\")"
   ]
  },
  {
   "cell_type": "code",
   "execution_count": 26,
   "id": "fc827e9c-1c82-47d7-a278-907f28ac7d88",
   "metadata": {},
   "outputs": [
    {
     "name": "stdout",
     "output_type": "stream",
     "text": [
      "+--------------------+--------------------+-----+\n",
      "|              window|           reference|count|\n",
      "+--------------------+--------------------+-----+\n",
      "|{2024-06-05 08:37...|         /r/JoeRogan|    4|\n",
      "|{2024-06-05 08:37...|         /r/JoeRogan|    4|\n",
      "|{2024-06-05 08:37...|         /r/JoeRogan|    4|\n",
      "|{2024-06-05 08:36...|         /r/JoeRogan|    4|\n",
      "|{2024-06-05 08:37...|         /r/JoeRogan|    4|\n",
      "|{2024-06-05 08:36...|         /r/JoeRogan|    4|\n",
      "|{2024-06-05 08:37...|         /r/JoeRogan|    4|\n",
      "|{2024-06-05 08:37...|         /r/JoeRogan|    4|\n",
      "|{2024-06-05 08:37...|         /r/JoeRogan|    4|\n",
      "|{2024-06-05 08:37...|         /r/JoeRogan|    4|\n",
      "|{2024-06-05 08:37...|         /r/JoeRogan|    4|\n",
      "|{2024-06-05 08:37...|         /r/JoeRogan|    4|\n",
      "|{2024-06-05 00:05...|https://www.amazo...|    3|\n",
      "|{2024-06-05 00:05...|https://www.amazo...|    3|\n",
      "|{2024-06-05 00:06...|https://www.amazo...|    3|\n",
      "|{2024-06-05 00:05...|https://www.amazo...|    3|\n",
      "|{2024-06-05 00:05...|https://www.amazo...|    3|\n",
      "|{2024-06-05 00:05...|https://www.amazo...|    3|\n",
      "|{2024-06-05 00:05...|https://www.amazo...|    3|\n",
      "|{2024-06-05 00:05...|https://www.amazo...|    3|\n",
      "+--------------------+--------------------+-----+\n",
      "only showing top 20 rows\n",
      "\n"
     ]
    }
   ],
   "source": [
    "df_result.show(20)"
   ]
  },
  {
   "cell_type": "code",
   "execution_count": null,
   "id": "cc2d49ae-f05b-4005-965c-2de614485c98",
   "metadata": {},
   "outputs": [],
   "source": []
  }
 ],
 "metadata": {
  "kernelspec": {
   "display_name": "Python 3 (ipykernel)",
   "language": "python",
   "name": "python3"
  },
  "language_info": {
   "codemirror_mode": {
    "name": "ipython",
    "version": 3
   },
   "file_extension": ".py",
   "mimetype": "text/x-python",
   "name": "python",
   "nbconvert_exporter": "python",
   "pygments_lexer": "ipython3",
   "version": "3.10.13"
  }
 },
 "nbformat": 4,
 "nbformat_minor": 5
}
